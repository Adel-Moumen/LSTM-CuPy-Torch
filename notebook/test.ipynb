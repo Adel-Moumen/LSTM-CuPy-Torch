{
 "cells": [
  {
   "cell_type": "code",
   "execution_count": null,
   "id": "23112bdc",
   "metadata": {},
   "outputs": [],
   "source": [
    "def _lstm_cell(x: torch.Tensor, u: nn.Linear, w: nn.Linear, ht: torch.Tensor, ct: torch.Tensor):\n",
    "    \"\"\"Returns the hidden states for each time step.\n",
    "    Arguments\n",
    "    ---------\n",
    "    wx : torch.Tensor\n",
    "        Linearly transformed input.\n",
    "    \"\"\"\n",
    "    hiddens = []\n",
    "    cell_state = []\n",
    "\n",
    "    # Feed-forward affine transformations (all steps in parallel)\n",
    "    wx = w(x)\n",
    "\n",
    "    # Sampling dropout mask\n",
    "    #drop_mask = self._sample_drop_mask(wx)\n",
    "\n",
    "    # Loop over time axis\n",
    "    for k in range(wx.shape[1]):\n",
    "        gates = wx[:, k] + u(ht)\n",
    "        it, ft, gt, ot = gates.chunk(4, dim=-1)\n",
    "        it = torch.sigmoid(it)\n",
    "        ft = torch.sigmoid(ft)\n",
    "        gt = torch.tanh(gt)\n",
    "        ot = torch.sigmoid(ot)\n",
    "\n",
    "        ct = ft * ct + it * gt \n",
    "        ht = ot * torch.tanh(ct) #* drop_mask\n",
    "\n",
    "        hiddens.append(ht)\n",
    "        cell_state.append(ct)\n",
    "\n",
    "    # Stacking states\n",
    "    h = torch.stack(hiddens, dim=1)\n",
    "    c = torch.stack(cell_state, dim=1)\n",
    "    return h, c"
   ]
  },
  {
   "cell_type": "code",
   "execution_count": 2,
   "metadata": {},
   "outputs": [
    {
     "name": "stderr",
     "output_type": "stream",
     "text": [
      "/home/adel/.local/lib/python3.8/site-packages/tqdm/auto.py:22: TqdmWarning: IProgress not found. Please update jupyter and ipywidgets. See https://ipywidgets.readthedocs.io/en/stable/user_install.html\n",
      "  from .autonotebook import tqdm as notebook_tqdm\n"
     ]
    }
   ],
   "source": [
    "import torch\n",
    "import torch.nn as nn \n",
    "import torch.autograd as autograd \n"
   ]
  },
  {
   "cell_type": "code",
   "execution_count": 3,
   "id": "4000016d",
   "metadata": {},
   "outputs": [],
   "source": [
    "hidden_size = 5\n",
    "input_size = 5\n",
    "batch_size = 1\n",
    "ht = torch.randn(batch_size, hidden_size)\n",
    "ct = torch.randn(batch_size, hidden_size)\n",
    "x = torch.randn(batch_size, input_size)\n",
    "w = nn.Linear(input_size, 4 * hidden_size, bias=True)\n",
    "u = nn.Linear(hidden_size, 4 * hidden_size, bias=True)"
   ]
  },
  {
   "cell_type": "code",
   "execution_count": 553,
   "id": "69c9a535",
   "metadata": {},
   "outputs": [],
   "source": [
    "\n",
    "\n",
    "class LSTM_Cell_Vanilla(autograd.Function):\n",
    "\n",
    "    @staticmethod\n",
    "    def forward(ctx, x, u, u_bias, w, w_bias, ht, ct):\n",
    "\n",
    "        hiddens = []\n",
    "        cell_state = []\n",
    "\n",
    "        # Feed-forward affine transformations (all steps in parallel)\n",
    "        wx = (x @ w.T) + w_bias\n",
    "\n",
    "        # Sampling dropout mask\n",
    "        #drop_mask = self._sample_drop_mask(wx)\n",
    "\n",
    "        # Loop over time axis\n",
    "        for k in range(wx.shape[1]):\n",
    "            gates = wx[:, k] + (ht @ u.T) + u_bias \n",
    "            it, ft, gt, ot = gates.chunk(4, dim=-1)\n",
    "            it = torch.sigmoid(it)\n",
    "            ft = torch.sigmoid(ft)\n",
    "            gt = torch.tanh(gt)\n",
    "            ot = torch.sigmoid(ot)\n",
    "\n",
    "            ct = ft * ct + it * gt \n",
    "            ht = ot * torch.tanh(ct) #* drop_mask\n",
    "\n",
    "            hiddens.append(ht)\n",
    "            cell_state.append(ct)\n",
    "\n",
    "        # Stacking states\n",
    "        h = torch.stack(hiddens, dim=1)\n",
    "        c = torch.stack(cell_state, dim=1)\n",
    "        return h, c\n",
    "\n",
    "    @staticmethod\n",
    "    def backward(ctx, grad_out_h, grad_out_c):\n",
    "        return None, None, None, None, None \n",
    "\n",
    "class LSTM_Cell(autograd.Function):\n",
    "\n",
    "    @staticmethod\n",
    "    def forward(ctx, wx, u, u_bias, ht, ct):\n",
    "\n",
    "        hiddens = []\n",
    "        cell_state = []\n",
    "\n",
    "        # Sampling dropout mask\n",
    "        #drop_mask = self._sample_drop_mask(wx)\n",
    "\n",
    "        # Loop over time axis\n",
    "        for k in range(wx.shape[1]):\n",
    "            ht, ct = _LSTM_Cell.apply(wx[:, k], u, u_bias, ht, ct)\n",
    "\n",
    "            hiddens.append(ht)\n",
    "            cell_state.append(ct)\n",
    "\n",
    "        # Stacking states\n",
    "        h = torch.stack(hiddens, dim=1)\n",
    "        c = torch.stack(cell_state, dim=1)\n",
    "        return h, c\n",
    "\n",
    "    @staticmethod\n",
    "    def backward(ctx, grad_out_h, grad_out_c):\n",
    "        return None, None, None, None, None \n",
    "\n",
    "class _LSTM_Cell(autograd.Function):\n",
    "\n",
    "    @staticmethod\n",
    "    def forward(ctx, wx,  u, u_bias, ct, ht):\n",
    "        # Loop over time axis\n",
    "        hiddens = []\n",
    "        cell_state = []\n",
    "        save_it = []\n",
    "        save_ft = []\n",
    "        save_gt = []\n",
    "        save_ot = []\n",
    "\n",
    "        for k in range(wx.shape[1]):\n",
    "\n",
    "            gates = wx[:, k] + (ht @ u.T) + u_bias \n",
    "            it, ft, gt, ot = gates.chunk(4, dim=1)\n",
    "\n",
    "            it = torch.sigmoid(it)\n",
    "            ft = torch.sigmoid(ft)\n",
    "            gt = torch.tanh(gt)\n",
    "            ot = torch.sigmoid(ot)\n",
    "\n",
    "            save_it.append(it)\n",
    "            save_ft.append(ft)\n",
    "            save_gt.append(gt)\n",
    "            save_ot.append(ot)\n",
    "\n",
    "            ct = ft * ct + it * gt \n",
    "            ht =  ot * torch.tanh(ct)\n",
    "\n",
    "            hiddens.append(ht)\n",
    "            cell_state.append(ct)\n",
    "\n",
    "        # Stacking states\n",
    "        h = torch.stack(hiddens, dim=1)\n",
    "        c = torch.stack(cell_state, dim=1)\n",
    "        it = torch.stack(save_it, dim=1)\n",
    "        ft = torch.stack(save_ft, dim=1)\n",
    "        gt = torch.stack(save_gt, dim=1)\n",
    "        ot = torch.stack(save_ot, dim=1)\n",
    "\n",
    "        ctx.save_for_backward(it, ft, gt, ot, c, h, u, wx)\n",
    "\n",
    "        return h, c\n",
    "\n",
    "    @staticmethod\n",
    "    def backward(ctx, grad_out_h, grad_out_c):\n",
    "        it, ft, gt, ot, c, h, u, wx = ctx.saved_tensors\n",
    "\n",
    "        \n",
    "        dh_prev, dc_prev = 0, 0\n",
    "\n",
    "        di = torch.zeros_like(it)\n",
    "        df = torch.zeros_like(ft)\n",
    "        dg = torch.zeros_like(gt)\n",
    "        do = torch.zeros_like(ot)\n",
    "\n",
    "        h_init = torch.zeros_like(h[:, 0])\n",
    "        c_init = torch.zeros_like(c[:, 0])\n",
    "        du = torch.zeros_like(u)\n",
    "        for t in reversed(range(wx.shape[1])):\n",
    "\n",
    "            dh = grad_out_h[:, t] + dh_prev\n",
    "            dc = (1 - torch.tanh(c[:, t]) ** 2) * ot[:, t] * dh + dc_prev + grad_out_c[:, t]\n",
    "\n",
    "            _di = dc  * gt[:, t] * ((1 - it[:, t]) * it[:, t])\n",
    "\n",
    "            \n",
    "            ct = c_init if t - 1 < 0 else c[:, t-1]\n",
    "\n",
    "            _df = dc  * ct * ((1 - ft[:, t]) * ft[:, t])\n",
    "\n",
    "            _dg = dc  *  it[:, t] * (1 - gt[:, t] ** 2)\n",
    "            _do = dh * torch.tanh(c[:, t]) * ((1 - ot[:, t]) * ot[:, t])\n",
    "\n",
    "            di[:, t] = _di\n",
    "            df[:, t] = _df\n",
    "            dg[:, t] = _dg\n",
    "            do[:, t] = _do\n",
    "\n",
    "\n",
    "            tmp = torch.cat((_di, _df, _dg, _do), 1)\n",
    "\n",
    "            ht = h_init if t - 1 < 0 else h[:, t-1]\n",
    "            \n",
    "            du += tmp.T @ ht\n",
    "\n",
    "\n",
    "            dh_prev = tmp @ u \n",
    "            dc_prev = dc * ft[:, t]\n",
    "            \n",
    "        dwx = torch.cat((di, df, dg, do), axis=2)\n",
    "\n",
    "        return dwx, du, dwx, None, None\n",
    "\n",
    "\n"
   ]
  },
  {
   "cell_type": "code",
   "execution_count": 554,
   "id": "02317bed",
   "metadata": {},
   "outputs": [
    {
     "data": {
      "text/plain": [
       "True"
      ]
     },
     "execution_count": 554,
     "metadata": {},
     "output_type": "execute_result"
    }
   ],
   "source": [
    "hidden_size = 2\n",
    "input_size = 1\n",
    "batch_size = 1\n",
    "htt = torch.zeros(batch_size, hidden_size).double()\n",
    "ctt = torch.zeros(batch_size, hidden_size).double()\n",
    "x = torch.randn(batch_size, 2, input_size).double()\n",
    "w = nn.Linear(input_size, 4 * hidden_size, bias=True).double()\n",
    "u = nn.Linear(hidden_size, 4 * hidden_size, bias=True).double()\n",
    "\n",
    "wx = w(x)\n",
    "autograd.gradcheck(_LSTM_Cell.apply, [wx,  u.weight, u.bias,ctt, htt])"
   ]
  },
  {
   "cell_type": "code",
   "execution_count": null,
   "id": "e80c4b04",
   "metadata": {},
   "outputs": [
    {
     "ename": "NameError",
     "evalue": "name '_lstm_cell' is not defined",
     "output_type": "error",
     "traceback": [
      "\u001b[0;31m---------------------------------------------------------------------------\u001b[0m",
      "\u001b[0;31mNameError\u001b[0m                                 Traceback (most recent call last)",
      "\u001b[1;32m/home/adel/Documents/ML/LSTM-CuPy-Torch/notebook/test.ipynb Cell 6'\u001b[0m in \u001b[0;36m<cell line: 1>\u001b[0;34m()\u001b[0m\n\u001b[0;32m----> <a href='vscode-notebook-cell:/home/adel/Documents/ML/LSTM-CuPy-Torch/notebook/test.ipynb#ch0000005?line=0'>1</a>\u001b[0m h, c \u001b[39m=\u001b[39m _lstm_cell(x, u, w, ht, ct)\n",
      "\u001b[0;31mNameError\u001b[0m: name '_lstm_cell' is not defined"
     ]
    }
   ],
   "source": [
    "h, c = _lstm_cell(x, u, w, ht, ct)"
   ]
  },
  {
   "cell_type": "code",
   "execution_count": 43,
   "id": "d850412b",
   "metadata": {},
   "outputs": [],
   "source": [
    "h_ad, c_ad = LSTM_Cell_Vanilla.apply(x, u.weight, u.bias, w.weight, w.bias, ht, ct)"
   ]
  },
  {
   "cell_type": "code",
   "execution_count": 44,
   "id": "58cc1971",
   "metadata": {},
   "outputs": [],
   "source": [
    "def check(h, h_ad, c, c_ad):\n",
    "    assert torch.allclose(h, h_ad), torch.allclose(c, c_ad)\n",
    "    return True "
   ]
  },
  {
   "cell_type": "code",
   "execution_count": 45,
   "id": "aa52cb55",
   "metadata": {},
   "outputs": [
    {
     "data": {
      "text/plain": [
       "True"
      ]
     },
     "execution_count": 45,
     "metadata": {},
     "output_type": "execute_result"
    }
   ],
   "source": [
    "check(h, h_ad, c, c_ad)"
   ]
  },
  {
   "cell_type": "code",
   "execution_count": 46,
   "id": "b5be802c",
   "metadata": {},
   "outputs": [],
   "source": [
    "h_ad, c_ad = LSTM_Cell.apply(x, u.weight, u.bias, w.weight, w.bias, ht, ct)"
   ]
  },
  {
   "cell_type": "code",
   "execution_count": 47,
   "id": "797dd3b4",
   "metadata": {},
   "outputs": [
    {
     "data": {
      "text/plain": [
       "True"
      ]
     },
     "execution_count": 47,
     "metadata": {},
     "output_type": "execute_result"
    }
   ],
   "source": [
    "check(h, h_ad, c, c_ad)"
   ]
  },
  {
   "cell_type": "code",
   "execution_count": 462,
   "id": "81d5f0ad",
   "metadata": {},
   "outputs": [],
   "source": [
    "class _LSTM_Cell(autograd.Function):\n",
    "\n",
    "    @staticmethod\n",
    "    def forward(ctx, wx,  u, u_bias, ht, ct):\n",
    "        # Loop over time axis\n",
    "        gates = wx + (ht @ u.T) + u_bias \n",
    "        it, ft, gt, ot = gates.chunk(4, dim=1)\n",
    "\n",
    "        ctx.save_for_backward(it, ft, gt, ot, ct, ht, u)\n",
    "        it = torch.sigmoid(it)\n",
    "        ft = torch.sigmoid(ft)\n",
    "        gt = torch.tanh(gt)\n",
    "        ot = torch.sigmoid(ot)\n",
    "\n",
    "        ct = ft * ct + it * gt \n",
    "        ht =  ot * torch.tanh(ct)\n",
    "        ctx.ct = ct\n",
    "\n",
    "        return ht, ct\n",
    "\n",
    "    @staticmethod\n",
    "    def backward(ctx, grad_out_h, grad_out_c):\n",
    "        it, ft, gt, ot, ctt, htt, u = ctx.saved_tensors\n",
    "\n",
    "        ui, uf, ug, uo = u.chunk(4, dim=0)\n",
    "        ct = ctx.ct\n",
    "\n",
    "        \"\"\"\n",
    "        do = dh * torch.tanh(ct) * ((1 - torch.sigmoid(ot)) * torch.sigmoid(ot))\n",
    "        dg = dh * torch.sigmoid(ot) * (1 - torch.tanh(ct) ** 2) * torch.sigmoid(it) * (1 - torch.tanh(gt) ** 2)\n",
    "        di = dh * torch.sigmoid(ot) * (1 - torch.tanh(ct) ** 2) * torch.tanh(gt) * ((1 - torch.sigmoid(it)) * torch.sigmoid(it))\n",
    "        df = dh * torch.sigmoid(ot) * (1 - torch.tanh(ct) ** 2) * ctt * ((1 - torch.sigmoid(ft)) * torch.sigmoid(ft))\n",
    "        \"\"\"\n",
    "        dh = grad_out_h\n",
    "        dc = grad_out_c + dh * torch.sigmoid(ot) * (1 - torch.tanh(ct) ** 2)\n",
    "        di = dc  * torch.tanh(gt) * ((1 - torch.sigmoid(it)) * torch.sigmoid(it))\n",
    "        df = dc  * ctt * ((1 - torch.sigmoid(ft)) * torch.sigmoid(ft))\n",
    "        dg = dc  *  torch.sigmoid(it) * (1 - torch.tanh(gt) ** 2)\n",
    "        do = dh * torch.tanh(ct) * ((1 - torch.sigmoid(ot)) * torch.sigmoid(ot))\n",
    "\n",
    "        \n",
    "        dwx = torch.cat((di, df, dg, do), axis=1)\n",
    "        du =  ( dwx.T @ htt ) \n",
    "\n",
    "        return dwx, du, dwx, dwx @ u, dc *  torch.sigmoid(ft)\n",
    "\n"
   ]
  },
  {
   "cell_type": "code",
   "execution_count": 463,
   "id": "f0480a3e",
   "metadata": {},
   "outputs": [
    {
     "data": {
      "text/plain": [
       "True"
      ]
     },
     "execution_count": 463,
     "metadata": {},
     "output_type": "execute_result"
    }
   ],
   "source": [
    "hidden_size = 5\n",
    "input_size = 5\n",
    "batch_size = 8\n",
    "htt = torch.randn(batch_size, hidden_size, requires_grad=True).double()\n",
    "ctt = torch.randn(batch_size, hidden_size, requires_grad=True).double()\n",
    "x = torch.randn(batch_size, 10, input_size).double()\n",
    "w = nn.Linear(input_size, 4 * hidden_size, bias=True).double()\n",
    "u = nn.Linear(hidden_size, 4 * hidden_size, bias=True).double()\n",
    "\n",
    "wx = w(x)\n",
    "autograd.gradcheck(_LSTM_Cell.apply, [wx[:, 0], u.weight, u.bias, htt, ctt])"
   ]
  },
  {
   "cell_type": "code",
   "execution_count": 130,
   "id": "c81c6501",
   "metadata": {},
   "outputs": [],
   "source": [
    "class Linear(autograd.Function):\n",
    "\n",
    "    @staticmethod\n",
    "    def forward(ctx, x, w):\n",
    "    \n",
    "        ctx.save_for_backward(x, w)\n",
    "        out = x @ w.T \n",
    "\n",
    "        return out\n",
    "\n",
    "    @staticmethod\n",
    "    def backward(ctx, dy):\n",
    "        x, w = ctx.saved_tensors\n",
    "\n",
    "    \n",
    "        return  dy @ w, dy.T @ x "
   ]
  },
  {
   "cell_type": "code",
   "execution_count": 58,
   "id": "2f61eb5b",
   "metadata": {},
   "outputs": [
    {
     "data": {
      "text/plain": [
       "True"
      ]
     },
     "execution_count": 58,
     "metadata": {},
     "output_type": "execute_result"
    }
   ],
   "source": [
    "hidden_size = 5\n",
    "input_size = 5\n",
    "batch_size = 1\n",
    "\n",
    "x = torch.randn(batch_size,  input_size).double()\n",
    "u = nn.Linear(hidden_size, hidden_size, bias=True).double()\n",
    "\n",
    "autograd.gradcheck(Linear.apply, [x, u.weight])"
   ]
  },
  {
   "cell_type": "code",
   "execution_count": null,
   "id": "2dddfb48",
   "metadata": {},
   "outputs": [],
   "source": []
  }
 ],
 "metadata": {
  "interpreter": {
   "hash": "916dbcbb3f70747c44a77c7bcd40155683ae19c65e1c03b4aa3499c5328201f1"
  },
  "kernelspec": {
   "display_name": "Python 3.8.10 64-bit",
   "language": "python",
   "name": "python3"
  },
  "language_info": {
   "codemirror_mode": {
    "name": "ipython",
    "version": 3
   },
   "file_extension": ".py",
   "mimetype": "text/x-python",
   "name": "python",
   "nbconvert_exporter": "python",
   "pygments_lexer": "ipython3",
   "version": "3.8.10"
  }
 },
 "nbformat": 4,
 "nbformat_minor": 5
}
