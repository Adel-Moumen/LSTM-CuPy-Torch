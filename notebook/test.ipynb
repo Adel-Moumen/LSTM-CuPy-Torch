{
 "cells": [
  {
   "cell_type": "code",
   "execution_count": 1,
   "metadata": {},
   "outputs": [
    {
     "name": "stderr",
     "output_type": "stream",
     "text": [
      "/home/adel/.local/lib/python3.8/site-packages/tqdm/auto.py:22: TqdmWarning: IProgress not found. Please update jupyter and ipywidgets. See https://ipywidgets.readthedocs.io/en/stable/user_install.html\n",
      "  from .autonotebook import tqdm as notebook_tqdm\n"
     ]
    }
   ],
   "source": [
    "import torch\n",
    "import torch.nn as nn \n",
    "import torch.autograd as autograd \n"
   ]
  },
  {
   "cell_type": "code",
   "execution_count": 8,
   "id": "4000016d",
   "metadata": {},
   "outputs": [],
   "source": [
    "hidden_size = 5\n",
    "input_size = 5\n",
    "batch_size = 1\n",
    "ht = torch.randn(batch_size, hidden_size)\n",
    "xt = torch.randn(batch_size, input_size)\n",
    "w = nn.Linear(input_size, 4 * hidden_size, bias=True)\n",
    "u = nn.Linear(hidden_size, 4 * hidden_size, bias=True)"
   ]
  },
  {
   "cell_type": "code",
   "execution_count": 10,
   "id": "69c9a535",
   "metadata": {},
   "outputs": [],
   "source": [
    "gates = w(xt) + u(ht)"
   ]
  },
  {
   "cell_type": "code",
   "execution_count": 14,
   "id": "e80c4b04",
   "metadata": {},
   "outputs": [],
   "source": [
    "i, f, g, o = gates.chunk(4, 1)"
   ]
  },
  {
   "cell_type": "code",
   "execution_count": null,
   "id": "d850412b",
   "metadata": {},
   "outputs": [],
   "source": []
  },
  {
   "cell_type": "code",
   "execution_count": null,
   "id": "58cc1971",
   "metadata": {},
   "outputs": [],
   "source": []
  }
 ],
 "metadata": {
  "interpreter": {
   "hash": "916dbcbb3f70747c44a77c7bcd40155683ae19c65e1c03b4aa3499c5328201f1"
  },
  "kernelspec": {
   "display_name": "Python 3.8.10 64-bit",
   "language": "python",
   "name": "python3"
  },
  "language_info": {
   "codemirror_mode": {
    "name": "ipython",
    "version": 3
   },
   "file_extension": ".py",
   "mimetype": "text/x-python",
   "name": "python",
   "nbconvert_exporter": "python",
   "pygments_lexer": "ipython3",
   "version": "3.8.10"
  }
 },
 "nbformat": 4,
 "nbformat_minor": 5
}
