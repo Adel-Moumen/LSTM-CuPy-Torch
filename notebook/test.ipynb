{
 "cells": [
  {
   "cell_type": "code",
   "execution_count": null,
   "id": "23112bdc",
   "metadata": {},
   "outputs": [],
   "source": [
    "def _lstm_cell(x: torch.Tensor, u: nn.Linear, w: nn.Linear, ht: torch.Tensor, ct: torch.Tensor):\n",
    "    \"\"\"Returns the hidden states for each time step.\n",
    "    Arguments\n",
    "    ---------\n",
    "    wx : torch.Tensor\n",
    "        Linearly transformed input.\n",
    "    \"\"\"\n",
    "    hiddens = []\n",
    "    cell_state = []\n",
    "\n",
    "    # Feed-forward affine transformations (all steps in parallel)\n",
    "    wx = w(x)\n",
    "\n",
    "    # Sampling dropout mask\n",
    "    #drop_mask = self._sample_drop_mask(wx)\n",
    "\n",
    "    # Loop over time axis\n",
    "    for k in range(wx.shape[1]):\n",
    "        gates = wx[:, k] + u(ht)\n",
    "        it, ft, gt, ot = gates.chunk(4, dim=-1)\n",
    "        it = torch.sigmoid(it)\n",
    "        ft = torch.sigmoid(ft)\n",
    "        gt = torch.tanh(gt)\n",
    "        ot = torch.sigmoid(ot)\n",
    "\n",
    "        ct = ft * ct + it * gt \n",
    "        ht = ot * torch.tanh(ct) #* drop_mask\n",
    "\n",
    "        hiddens.append(ht)\n",
    "        cell_state.append(ct)\n",
    "\n",
    "    # Stacking states\n",
    "    h = torch.stack(hiddens, dim=1)\n",
    "    c = torch.stack(cell_state, dim=1)\n",
    "    return h, c"
   ]
  },
  {
   "cell_type": "code",
   "execution_count": 1,
   "metadata": {},
   "outputs": [
    {
     "name": "stderr",
     "output_type": "stream",
     "text": [
      "/home/adel/.local/lib/python3.8/site-packages/tqdm/auto.py:22: TqdmWarning: IProgress not found. Please update jupyter and ipywidgets. See https://ipywidgets.readthedocs.io/en/stable/user_install.html\n",
      "  from .autonotebook import tqdm as notebook_tqdm\n"
     ]
    }
   ],
   "source": [
    "import torch\n",
    "import torch.nn as nn \n",
    "import torch.autograd as autograd \n"
   ]
  },
  {
   "cell_type": "code",
   "execution_count": 2,
   "id": "4000016d",
   "metadata": {},
   "outputs": [],
   "source": [
    "hidden_size = 5\n",
    "input_size = 5\n",
    "batch_size = 1\n",
    "ht = torch.randn(batch_size, hidden_size)\n",
    "ct = torch.randn(batch_size, hidden_size)\n",
    "x = torch.randn(batch_size, input_size)\n",
    "w = nn.Linear(input_size, 4 * hidden_size, bias=True)\n",
    "u = nn.Linear(hidden_size, 4 * hidden_size, bias=True)"
   ]
  },
  {
   "cell_type": "code",
   "execution_count": 18,
   "id": "69c9a535",
   "metadata": {},
   "outputs": [],
   "source": [
    "\n",
    "\n",
    "class LSTM_Cell_Vanilla(autograd.Function):\n",
    "\n",
    "    @staticmethod\n",
    "    def forward(ctx, x, u, u_bias, w, w_bias, ht, ct):\n",
    "\n",
    "        hiddens = []\n",
    "        cell_state = []\n",
    "\n",
    "        # Feed-forward affine transformations (all steps in parallel)\n",
    "        wx = (x @ w.T) + w_bias\n",
    "\n",
    "        # Sampling dropout mask\n",
    "        #drop_mask = self._sample_drop_mask(wx)\n",
    "\n",
    "        # Loop over time axis\n",
    "        for k in range(wx.shape[1]):\n",
    "            gates = wx[:, k] + (ht @ u.T) + u_bias \n",
    "            it, ft, gt, ot = gates.chunk(4, dim=-1)\n",
    "            it = torch.sigmoid(it)\n",
    "            ft = torch.sigmoid(ft)\n",
    "            gt = torch.tanh(gt)\n",
    "            ot = torch.sigmoid(ot)\n",
    "\n",
    "            ct = ft * ct + it * gt \n",
    "            ht = ot * torch.tanh(ct) #* drop_mask\n",
    "\n",
    "            hiddens.append(ht)\n",
    "            cell_state.append(ct)\n",
    "\n",
    "        # Stacking states\n",
    "        h = torch.stack(hiddens, dim=1)\n",
    "        c = torch.stack(cell_state, dim=1)\n",
    "        return h, c\n",
    "\n",
    "    @staticmethod\n",
    "    def backward(ctx, grad_out_h, grad_out_c):\n",
    "        return None, None, None, None, None \n",
    "\n",
    "class LSTM_Cell(autograd.Function):\n",
    "\n",
    "    @staticmethod\n",
    "    def forward(ctx, x, u, u_bias, w, w_bias, ht, ct):\n",
    "\n",
    "        hiddens = []\n",
    "        cell_state = []\n",
    "\n",
    "        # Feed-forward affine transformations (all steps in parallel)\n",
    "        wx = (x @ w.T) + w_bias\n",
    "\n",
    "        # Sampling dropout mask\n",
    "        #drop_mask = self._sample_drop_mask(wx)\n",
    "\n",
    "        # Loop over time axis\n",
    "        for k in range(wx.shape[1]):\n",
    "            ht, ct = _LSTM_Cell.apply(wx[:, k], u, u_bias, w, w_bias, ht, ct)\n",
    "\n",
    "            hiddens.append(ht)\n",
    "            cell_state.append(ct)\n",
    "\n",
    "        # Stacking states\n",
    "        h = torch.stack(hiddens, dim=1)\n",
    "        c = torch.stack(cell_state, dim=1)\n",
    "        return h, c\n",
    "\n",
    "    @staticmethod\n",
    "    def backward(ctx, grad_out_h, grad_out_c):\n",
    "        return None, None, None, None, None \n",
    "\n",
    "class _LSTM_Cell(autograd.Function):\n",
    "\n",
    "    @staticmethod\n",
    "    def forward(ctx, ht, wx, u, u_bias, ct):\n",
    "        # Loop over time axis\n",
    "        gates = wx + (ht @ u.T) + u_bias \n",
    "        it, ft, gt, ot = gates.chunk(4, dim=-1)\n",
    "\n",
    "        ctx.save_for_backward(it, ft, gt, ot, ct, ht, u)\n",
    "        it = torch.sigmoid(it)\n",
    "        ft = torch.sigmoid(ft)\n",
    "        gt = torch.tanh(gt)\n",
    "        ot = torch.sigmoid(ot)\n",
    "\n",
    "        ct = ft * ct + it * gt \n",
    "        ctx.ct = ct\n",
    "        ht = ot * torch.tanh(ct) #* drop_mask\n",
    "\n",
    "        return ht, ct\n",
    "\n",
    "    @staticmethod\n",
    "    def backward(ctx, grad_out_h, grad_out_c):\n",
    "        it, ft, gt, ot, ctt, htt, u = ctx.saved_tensors\n",
    "\n",
    "        ui, uf, ug, uo = u.chunk(4, dim=0)\n",
    "        ct = ctx.ct\n",
    "\n",
    "        dh = grad_out_h \n",
    "        \"\"\"\n",
    "        do = dh * torch.tanh(ct) * ((1 - torch.sigmoid(ot)) * torch.sigmoid(ot))\n",
    "        dg = dh * torch.sigmoid(ot) * (1 - torch.tanh(ct) ** 2) * torch.sigmoid(it) * (1 - torch.tanh(gt) ** 2)\n",
    "        di = dh * torch.sigmoid(ot) * (1 - torch.tanh(ct) ** 2) * torch.tanh(gt) * ((1 - torch.sigmoid(it)) * torch.sigmoid(it))\n",
    "        df = dh * torch.sigmoid(ot) * (1 - torch.tanh(ct) ** 2) * ctt * ((1 - torch.sigmoid(ft)) * torch.sigmoid(ft))\n",
    "        \"\"\"\n",
    "        di = grad_out_c * torch.tanh(gt) * ((1 - torch.sigmoid(it)) * torch.sigmoid(it))\n",
    "        df = ctt *  torch.sigmoid(ft) \n",
    "        dg = torch.sigmoid(it) * (1 - torch.tanh(gt) ** 2)\n",
    "        do = torch.tanh(ct) * ((1 - torch.sigmoid(ot)) * torch.sigmoid(ot))\n",
    "        dh_prev = do @ uo + dg @ ug + di @ ui + df @ uf\n",
    "\n",
    "        return dh_prev, None, None, None, None \n",
    "\n"
   ]
  },
  {
   "cell_type": "code",
   "execution_count": 19,
   "id": "02317bed",
   "metadata": {},
   "outputs": [
    {
     "ename": "GradcheckError",
     "evalue": "Jacobian mismatch for output 0 with respect to input 0,\nnumerical:tensor([[-0.0050,  0.0000,  0.0000,  0.0000,  0.0000],\n        [ 0.0000, -0.0514,  0.0000,  0.0000,  0.0000],\n        [ 0.0000,  0.0000, -0.0039,  0.0000,  0.0000],\n        [ 0.0000,  0.0000,  0.0000, -0.0826,  0.0000],\n        [ 0.0000,  0.0000,  0.0000,  0.0000, -0.0454],\n        [ 0.0428,  0.0000,  0.0000,  0.0000,  0.0000],\n        [ 0.0000,  0.0095,  0.0000,  0.0000,  0.0000],\n        [ 0.0000,  0.0000, -0.0259,  0.0000,  0.0000],\n        [ 0.0000,  0.0000,  0.0000, -0.0126,  0.0000],\n        [ 0.0000,  0.0000,  0.0000,  0.0000,  0.0610],\n        [ 0.1484,  0.0000,  0.0000,  0.0000,  0.0000],\n        [ 0.0000,  0.0035,  0.0000,  0.0000,  0.0000],\n        [ 0.0000,  0.0000,  0.0425,  0.0000,  0.0000],\n        [ 0.0000,  0.0000,  0.0000,  0.1071,  0.0000],\n        [ 0.0000,  0.0000,  0.0000,  0.0000,  0.0538],\n        [ 0.0090,  0.0000,  0.0000,  0.0000,  0.0000],\n        [ 0.0000, -0.0285,  0.0000,  0.0000,  0.0000],\n        [ 0.0000,  0.0000, -0.0478,  0.0000,  0.0000],\n        [ 0.0000,  0.0000,  0.0000, -0.1224,  0.0000],\n        [ 0.0000,  0.0000,  0.0000,  0.0000,  0.0339]], dtype=torch.float64)\nanalytical:tensor([[0., 0., 0., 0., 0.],\n        [0., 0., 0., 0., 0.],\n        [0., 0., 0., 0., 0.],\n        [0., 0., 0., 0., 0.],\n        [0., 0., 0., 0., 0.],\n        [0., 0., 0., 0., 0.],\n        [0., 0., 0., 0., 0.],\n        [0., 0., 0., 0., 0.],\n        [0., 0., 0., 0., 0.],\n        [0., 0., 0., 0., 0.],\n        [0., 0., 0., 0., 0.],\n        [0., 0., 0., 0., 0.],\n        [0., 0., 0., 0., 0.],\n        [0., 0., 0., 0., 0.],\n        [0., 0., 0., 0., 0.],\n        [0., 0., 0., 0., 0.],\n        [0., 0., 0., 0., 0.],\n        [0., 0., 0., 0., 0.],\n        [0., 0., 0., 0., 0.],\n        [0., 0., 0., 0., 0.]], dtype=torch.float64)\n",
     "output_type": "error",
     "traceback": [
      "\u001b[0;31m---------------------------------------------------------------------------\u001b[0m",
      "\u001b[0;31mGradcheckError\u001b[0m                            Traceback (most recent call last)",
      "\u001b[1;32m/home/adel/Documents/ML/LSTM-CuPy-Torch/notebook/test.ipynb Cell 5'\u001b[0m in \u001b[0;36m<cell line: 11>\u001b[0;34m()\u001b[0m\n\u001b[1;32m      <a href='vscode-notebook-cell:/home/adel/Documents/ML/LSTM-CuPy-Torch/notebook/test.ipynb#ch0000004?line=7'>8</a>\u001b[0m u \u001b[39m=\u001b[39m nn\u001b[39m.\u001b[39mLinear(hidden_size, \u001b[39m4\u001b[39m \u001b[39m*\u001b[39m hidden_size, bias\u001b[39m=\u001b[39m\u001b[39mTrue\u001b[39;00m)\u001b[39m.\u001b[39mdouble()\n\u001b[1;32m     <a href='vscode-notebook-cell:/home/adel/Documents/ML/LSTM-CuPy-Torch/notebook/test.ipynb#ch0000004?line=9'>10</a>\u001b[0m wx \u001b[39m=\u001b[39m w(x)\n\u001b[0;32m---> <a href='vscode-notebook-cell:/home/adel/Documents/ML/LSTM-CuPy-Torch/notebook/test.ipynb#ch0000004?line=10'>11</a>\u001b[0m autograd\u001b[39m.\u001b[39;49mgradcheck(_LSTM_Cell\u001b[39m.\u001b[39;49mapply, [htt, wx[:, \u001b[39m0\u001b[39;49m], u\u001b[39m.\u001b[39;49mweight, u\u001b[39m.\u001b[39;49mbias, ctt])\n",
      "File \u001b[0;32m~/.local/lib/python3.8/site-packages/torch/autograd/gradcheck.py:1263\u001b[0m, in \u001b[0;36mgradcheck\u001b[0;34m(func, inputs, eps, atol, rtol, raise_exception, check_sparse_nnz, nondet_tol, check_undefined_grad, check_grad_dtypes, check_batched_grad, check_forward_ad, fast_mode)\u001b[0m\n\u001b[1;32m   <a href='file:///home/adel/.local/lib/python3.8/site-packages/torch/autograd/gradcheck.py?line=1260'>1261</a>\u001b[0m         \u001b[39mreturn\u001b[39;00m \u001b[39mFalse\u001b[39;00m\n\u001b[1;32m   <a href='file:///home/adel/.local/lib/python3.8/site-packages/torch/autograd/gradcheck.py?line=1261'>1262</a>\u001b[0m \u001b[39melse\u001b[39;00m:\n\u001b[0;32m-> <a href='file:///home/adel/.local/lib/python3.8/site-packages/torch/autograd/gradcheck.py?line=1262'>1263</a>\u001b[0m     \u001b[39mreturn\u001b[39;00m _gradcheck_helper(\u001b[39m*\u001b[39;49m\u001b[39m*\u001b[39;49margs)\n",
      "File \u001b[0;32m~/.local/lib/python3.8/site-packages/torch/autograd/gradcheck.py:1276\u001b[0m, in \u001b[0;36m_gradcheck_helper\u001b[0;34m(func, inputs, eps, atol, rtol, check_sparse_nnz, nondet_tol, check_undefined_grad, check_grad_dtypes, check_batched_grad, check_forward_ad, fast_mode)\u001b[0m\n\u001b[1;32m   <a href='file:///home/adel/.local/lib/python3.8/site-packages/torch/autograd/gradcheck.py?line=1272'>1273</a>\u001b[0m _check_outputs(outputs)\n\u001b[1;32m   <a href='file:///home/adel/.local/lib/python3.8/site-packages/torch/autograd/gradcheck.py?line=1274'>1275</a>\u001b[0m gradcheck_fn \u001b[39m=\u001b[39m _fast_gradcheck \u001b[39mif\u001b[39;00m fast_mode \u001b[39melse\u001b[39;00m _slow_gradcheck\n\u001b[0;32m-> <a href='file:///home/adel/.local/lib/python3.8/site-packages/torch/autograd/gradcheck.py?line=1275'>1276</a>\u001b[0m _gradcheck_real_imag(gradcheck_fn, func, func_out, tupled_inputs, outputs, eps,\n\u001b[1;32m   <a href='file:///home/adel/.local/lib/python3.8/site-packages/torch/autograd/gradcheck.py?line=1276'>1277</a>\u001b[0m                      rtol, atol, check_grad_dtypes, check_forward_ad\u001b[39m=\u001b[39;49mcheck_forward_ad, nondet_tol\u001b[39m=\u001b[39;49mnondet_tol)\n\u001b[1;32m   <a href='file:///home/adel/.local/lib/python3.8/site-packages/torch/autograd/gradcheck.py?line=1278'>1279</a>\u001b[0m \u001b[39mfor\u001b[39;00m i, o \u001b[39min\u001b[39;00m \u001b[39menumerate\u001b[39m(outputs):\n\u001b[1;32m   <a href='file:///home/adel/.local/lib/python3.8/site-packages/torch/autograd/gradcheck.py?line=1279'>1280</a>\u001b[0m     \u001b[39mif\u001b[39;00m check_batched_grad:\n",
      "File \u001b[0;32m~/.local/lib/python3.8/site-packages/torch/autograd/gradcheck.py:946\u001b[0m, in \u001b[0;36m_gradcheck_real_imag\u001b[0;34m(gradcheck_fn, func, func_out, tupled_inputs, outputs, eps, rtol, atol, check_grad_dtypes, check_forward_ad, nondet_tol)\u001b[0m\n\u001b[1;32m    <a href='file:///home/adel/.local/lib/python3.8/site-packages/torch/autograd/gradcheck.py?line=942'>943</a>\u001b[0m     gradcheck_fn(real_fn, real_func_out, tupled_inputs, real_outputs, eps,\n\u001b[1;32m    <a href='file:///home/adel/.local/lib/python3.8/site-packages/torch/autograd/gradcheck.py?line=943'>944</a>\u001b[0m                  rtol, atol, check_grad_dtypes, nondet_tol, complex_indices\u001b[39m=\u001b[39mcomplex_out_indices)\n\u001b[1;32m    <a href='file:///home/adel/.local/lib/python3.8/site-packages/torch/autograd/gradcheck.py?line=944'>945</a>\u001b[0m \u001b[39melse\u001b[39;00m:\n\u001b[0;32m--> <a href='file:///home/adel/.local/lib/python3.8/site-packages/torch/autograd/gradcheck.py?line=945'>946</a>\u001b[0m     gradcheck_fn(func, func_out, tupled_inputs, outputs, eps,\n\u001b[1;32m    <a href='file:///home/adel/.local/lib/python3.8/site-packages/torch/autograd/gradcheck.py?line=946'>947</a>\u001b[0m                  rtol, atol, check_grad_dtypes, nondet_tol)\n\u001b[1;32m    <a href='file:///home/adel/.local/lib/python3.8/site-packages/torch/autograd/gradcheck.py?line=948'>949</a>\u001b[0m \u001b[39mif\u001b[39;00m check_forward_ad:\n\u001b[1;32m    <a href='file:///home/adel/.local/lib/python3.8/site-packages/torch/autograd/gradcheck.py?line=949'>950</a>\u001b[0m     complex_inp_indices \u001b[39m=\u001b[39m [i \u001b[39mfor\u001b[39;00m i, inp \u001b[39min\u001b[39;00m \u001b[39menumerate\u001b[39m(tupled_inputs) \u001b[39mif\u001b[39;00m is_tensor_like(inp) \u001b[39mand\u001b[39;00m inp\u001b[39m.\u001b[39mis_complex()]\n",
      "File \u001b[0;32m~/.local/lib/python3.8/site-packages/torch/autograd/gradcheck.py:995\u001b[0m, in \u001b[0;36m_slow_gradcheck\u001b[0;34m(func, func_out, tupled_inputs, outputs, eps, rtol, atol, check_grad_dtypes, nondet_tol, use_forward_ad, complex_indices, test_imag)\u001b[0m\n\u001b[1;32m    <a href='file:///home/adel/.local/lib/python3.8/site-packages/torch/autograd/gradcheck.py?line=992'>993</a>\u001b[0m         \u001b[39mfor\u001b[39;00m j, (a, n) \u001b[39min\u001b[39;00m \u001b[39menumerate\u001b[39m(\u001b[39mzip\u001b[39m(analytical, numerical[i])):\n\u001b[1;32m    <a href='file:///home/adel/.local/lib/python3.8/site-packages/torch/autograd/gradcheck.py?line=993'>994</a>\u001b[0m             \u001b[39mif\u001b[39;00m \u001b[39mnot\u001b[39;00m _allclose_with_type_promotion(a, n\u001b[39m.\u001b[39mto(a\u001b[39m.\u001b[39mdevice), rtol, atol):\n\u001b[0;32m--> <a href='file:///home/adel/.local/lib/python3.8/site-packages/torch/autograd/gradcheck.py?line=994'>995</a>\u001b[0m                 \u001b[39mraise\u001b[39;00m GradcheckError(_get_notallclose_msg(a, n, i, j, complex_indices, test_imag))\n\u001b[1;32m    <a href='file:///home/adel/.local/lib/python3.8/site-packages/torch/autograd/gradcheck.py?line=996'>997</a>\u001b[0m \u001b[39mreturn\u001b[39;00m \u001b[39mTrue\u001b[39;00m\n",
      "\u001b[0;31mGradcheckError\u001b[0m: Jacobian mismatch for output 0 with respect to input 0,\nnumerical:tensor([[-0.0050,  0.0000,  0.0000,  0.0000,  0.0000],\n        [ 0.0000, -0.0514,  0.0000,  0.0000,  0.0000],\n        [ 0.0000,  0.0000, -0.0039,  0.0000,  0.0000],\n        [ 0.0000,  0.0000,  0.0000, -0.0826,  0.0000],\n        [ 0.0000,  0.0000,  0.0000,  0.0000, -0.0454],\n        [ 0.0428,  0.0000,  0.0000,  0.0000,  0.0000],\n        [ 0.0000,  0.0095,  0.0000,  0.0000,  0.0000],\n        [ 0.0000,  0.0000, -0.0259,  0.0000,  0.0000],\n        [ 0.0000,  0.0000,  0.0000, -0.0126,  0.0000],\n        [ 0.0000,  0.0000,  0.0000,  0.0000,  0.0610],\n        [ 0.1484,  0.0000,  0.0000,  0.0000,  0.0000],\n        [ 0.0000,  0.0035,  0.0000,  0.0000,  0.0000],\n        [ 0.0000,  0.0000,  0.0425,  0.0000,  0.0000],\n        [ 0.0000,  0.0000,  0.0000,  0.1071,  0.0000],\n        [ 0.0000,  0.0000,  0.0000,  0.0000,  0.0538],\n        [ 0.0090,  0.0000,  0.0000,  0.0000,  0.0000],\n        [ 0.0000, -0.0285,  0.0000,  0.0000,  0.0000],\n        [ 0.0000,  0.0000, -0.0478,  0.0000,  0.0000],\n        [ 0.0000,  0.0000,  0.0000, -0.1224,  0.0000],\n        [ 0.0000,  0.0000,  0.0000,  0.0000,  0.0339]], dtype=torch.float64)\nanalytical:tensor([[0., 0., 0., 0., 0.],\n        [0., 0., 0., 0., 0.],\n        [0., 0., 0., 0., 0.],\n        [0., 0., 0., 0., 0.],\n        [0., 0., 0., 0., 0.],\n        [0., 0., 0., 0., 0.],\n        [0., 0., 0., 0., 0.],\n        [0., 0., 0., 0., 0.],\n        [0., 0., 0., 0., 0.],\n        [0., 0., 0., 0., 0.],\n        [0., 0., 0., 0., 0.],\n        [0., 0., 0., 0., 0.],\n        [0., 0., 0., 0., 0.],\n        [0., 0., 0., 0., 0.],\n        [0., 0., 0., 0., 0.],\n        [0., 0., 0., 0., 0.],\n        [0., 0., 0., 0., 0.],\n        [0., 0., 0., 0., 0.],\n        [0., 0., 0., 0., 0.],\n        [0., 0., 0., 0., 0.]], dtype=torch.float64)\n"
     ]
    }
   ],
   "source": [
    "hidden_size = 5\n",
    "input_size = 5\n",
    "batch_size = 1\n",
    "htt = torch.randn(batch_size, hidden_size).double()\n",
    "ctt = torch.randn(batch_size, hidden_size).double()\n",
    "x = torch.randn(batch_size, 10, input_size).double()\n",
    "w = nn.Linear(input_size, 4 * hidden_size, bias=True).double()\n",
    "u = nn.Linear(hidden_size, 4 * hidden_size, bias=True).double()\n",
    "\n",
    "wx = w(x)\n",
    "autograd.gradcheck(_LSTM_Cell.apply, [htt, wx[:, 0], u.weight, u.bias, ctt])"
   ]
  },
  {
   "cell_type": "code",
   "execution_count": 20,
   "id": "e80c4b04",
   "metadata": {},
   "outputs": [
    {
     "ename": "NameError",
     "evalue": "name '_lstm_cell' is not defined",
     "output_type": "error",
     "traceback": [
      "\u001b[0;31m---------------------------------------------------------------------------\u001b[0m",
      "\u001b[0;31mNameError\u001b[0m                                 Traceback (most recent call last)",
      "\u001b[1;32m/home/adel/Documents/ML/LSTM-CuPy-Torch/notebook/test.ipynb Cell 6'\u001b[0m in \u001b[0;36m<cell line: 1>\u001b[0;34m()\u001b[0m\n\u001b[0;32m----> <a href='vscode-notebook-cell:/home/adel/Documents/ML/LSTM-CuPy-Torch/notebook/test.ipynb#ch0000005?line=0'>1</a>\u001b[0m h, c \u001b[39m=\u001b[39m _lstm_cell(x, u, w, ht, ct)\n",
      "\u001b[0;31mNameError\u001b[0m: name '_lstm_cell' is not defined"
     ]
    }
   ],
   "source": [
    "h, c = _lstm_cell(x, u, w, ht, ct)"
   ]
  },
  {
   "cell_type": "code",
   "execution_count": 43,
   "id": "d850412b",
   "metadata": {},
   "outputs": [],
   "source": [
    "h_ad, c_ad = LSTM_Cell_Vanilla.apply(x, u.weight, u.bias, w.weight, w.bias, ht, ct)"
   ]
  },
  {
   "cell_type": "code",
   "execution_count": 44,
   "id": "58cc1971",
   "metadata": {},
   "outputs": [],
   "source": [
    "def check(h, h_ad, c, c_ad):\n",
    "    assert torch.allclose(h, h_ad), torch.allclose(c, c_ad)\n",
    "    return True "
   ]
  },
  {
   "cell_type": "code",
   "execution_count": 45,
   "id": "aa52cb55",
   "metadata": {},
   "outputs": [
    {
     "data": {
      "text/plain": [
       "True"
      ]
     },
     "execution_count": 45,
     "metadata": {},
     "output_type": "execute_result"
    }
   ],
   "source": [
    "check(h, h_ad, c, c_ad)"
   ]
  },
  {
   "cell_type": "code",
   "execution_count": 46,
   "id": "b5be802c",
   "metadata": {},
   "outputs": [],
   "source": [
    "h_ad, c_ad = LSTM_Cell.apply(x, u.weight, u.bias, w.weight, w.bias, ht, ct)"
   ]
  },
  {
   "cell_type": "code",
   "execution_count": 47,
   "id": "797dd3b4",
   "metadata": {},
   "outputs": [
    {
     "data": {
      "text/plain": [
       "True"
      ]
     },
     "execution_count": 47,
     "metadata": {},
     "output_type": "execute_result"
    }
   ],
   "source": [
    "check(h, h_ad, c, c_ad)"
   ]
  },
  {
   "cell_type": "code",
   "execution_count": null,
   "id": "81d5f0ad",
   "metadata": {},
   "outputs": [],
   "source": []
  }
 ],
 "metadata": {
  "interpreter": {
   "hash": "916dbcbb3f70747c44a77c7bcd40155683ae19c65e1c03b4aa3499c5328201f1"
  },
  "kernelspec": {
   "display_name": "Python 3.8.10 64-bit",
   "language": "python",
   "name": "python3"
  },
  "language_info": {
   "codemirror_mode": {
    "name": "ipython",
    "version": 3
   },
   "file_extension": ".py",
   "mimetype": "text/x-python",
   "name": "python",
   "nbconvert_exporter": "python",
   "pygments_lexer": "ipython3",
   "version": "3.8.10"
  }
 },
 "nbformat": 4,
 "nbformat_minor": 5
}
